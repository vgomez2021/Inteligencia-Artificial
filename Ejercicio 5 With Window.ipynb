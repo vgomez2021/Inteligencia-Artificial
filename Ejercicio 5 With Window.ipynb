{
  "nbformat": 4,
  "nbformat_minor": 0,
  "metadata": {
    "colab": {
      "provenance": [],
      "authorship_tag": "ABX9TyMQP5BXdxB2a5Z2/XYI9t5W",
      "include_colab_link": true
    },
    "kernelspec": {
      "name": "python3",
      "display_name": "Python 3"
    },
    "language_info": {
      "name": "python"
    }
  },
  "cells": [
    {
      "cell_type": "markdown",
      "metadata": {
        "id": "view-in-github",
        "colab_type": "text"
      },
      "source": [
        "<a href=\"https://colab.research.google.com/github/vgomez2021/Inteligencia-Artificial/blob/main/Ejercicio%205%20With%20Window.ipynb\" target=\"_parent\"><img src=\"https://colab.research.google.com/assets/colab-badge.svg\" alt=\"Open In Colab\"/></a>"
      ]
    },
    {
      "cell_type": "code",
      "source": [
        "from PIL import Image, ImageTk\n",
        "from tkinter import *\n",
        "import random\n",
        "import time\n",
        "\n",
        "# Crear la ventana principal\n",
        "root = Tk()\n",
        "root.title(\"Simulador de Semáforo\")\n",
        "\n",
        "# Lista de rutas a las imágenes (ajusta estas rutas a tu estructura de archivos)\n",
        "imagenes = ['1.png', '2.png', '3.png']\n",
        "\n",
        "# Crear un label para mostrar la imagen\n",
        "label_imagen = Label(root)\n",
        "label_imagen.pack()\n",
        "\n",
        "# Crear un label para mostrar el mensaje\n",
        "label_mensaje = Label(root, font=(\"Arial\", 20))\n",
        "label_mensaje.pack()\n",
        "\n",
        "def cambiar_imagen():\n",
        "    # Seleccionar una imagen aleatoria\n",
        "    imagen_aleatoria = random.choice(imagenes)\n",
        "\n",
        "    # Abrir la imagen y convertirla a un formato compatible con Tkinter\n",
        "    img = Image.open(imagen_aleatoria)\n",
        "    img = img.resize((200, 200))  # Ajustar el tamaño de la imagen (opcional)\n",
        "    img = ImageTk.PhotoImage(img)\n",
        "\n",
        "    # Mostrar la imagen y el mensaje correspondiente\n",
        "    label_imagen.config(image=img)\n",
        "    label_imagen.image = img  # Evitar que la imagen sea garbage collected\n",
        "\n",
        "    if imagen_aleatoria == '1.png':\n",
        "        label_mensaje.config(text=\"Semáforo en rojo! - Detenerse!\")\n",
        "    elif imagen_aleatoria == '2.png':\n",
        "        label_mensaje.config(text=\"Semáforo en amarillo - Atención!\")\n",
        "    else:\n",
        "        label_mensaje.config(text=\"Semáforo en verde - Avanzar!\")\n",
        "\n",
        "    # Llamar a la función nuevamente después de 2 segundos\n",
        "    root.after(2000, cambiar_imagen)\n",
        "\n",
        "# Iniciar el bucle\n",
        "cambiar_imagen()\n",
        "\n",
        "# Iniciar el bucle principal de Tkinter\n",
        "root.mainloop()\n"
      ],
      "metadata": {
        "colab": {
          "base_uri": "https://localhost:8080/",
          "height": 332
        },
        "id": "-0V1aW2uzkvo",
        "outputId": "fca0bc13-f9be-4867-b7b4-dd82b459573c"
      },
      "execution_count": 6,
      "outputs": [
        {
          "output_type": "error",
          "ename": "TclError",
          "evalue": "no display name and no $DISPLAY environment variable",
          "traceback": [
            "\u001b[0;31m---------------------------------------------------------------------------\u001b[0m",
            "\u001b[0;31mTclError\u001b[0m                                  Traceback (most recent call last)",
            "\u001b[0;32m<ipython-input-6-46b0373a722a>\u001b[0m in \u001b[0;36m<cell line: 7>\u001b[0;34m()\u001b[0m\n\u001b[1;32m      5\u001b[0m \u001b[0;34m\u001b[0m\u001b[0m\n\u001b[1;32m      6\u001b[0m \u001b[0;31m# Crear la ventana principal\u001b[0m\u001b[0;34m\u001b[0m\u001b[0;34m\u001b[0m\u001b[0m\n\u001b[0;32m----> 7\u001b[0;31m \u001b[0mroot\u001b[0m \u001b[0;34m=\u001b[0m \u001b[0mTk\u001b[0m\u001b[0;34m(\u001b[0m\u001b[0;34m)\u001b[0m\u001b[0;34m\u001b[0m\u001b[0;34m\u001b[0m\u001b[0m\n\u001b[0m\u001b[1;32m      8\u001b[0m \u001b[0mroot\u001b[0m\u001b[0;34m.\u001b[0m\u001b[0mtitle\u001b[0m\u001b[0;34m(\u001b[0m\u001b[0;34m\"Simulador de Semáforo\"\u001b[0m\u001b[0;34m)\u001b[0m\u001b[0;34m\u001b[0m\u001b[0;34m\u001b[0m\u001b[0m\n\u001b[1;32m      9\u001b[0m \u001b[0;34m\u001b[0m\u001b[0m\n",
            "\u001b[0;32m/usr/lib/python3.10/tkinter/__init__.py\u001b[0m in \u001b[0;36m__init__\u001b[0;34m(self, screenName, baseName, className, useTk, sync, use)\u001b[0m\n\u001b[1;32m   2297\u001b[0m                 \u001b[0mbaseName\u001b[0m \u001b[0;34m=\u001b[0m \u001b[0mbaseName\u001b[0m \u001b[0;34m+\u001b[0m \u001b[0mext\u001b[0m\u001b[0;34m\u001b[0m\u001b[0;34m\u001b[0m\u001b[0m\n\u001b[1;32m   2298\u001b[0m         \u001b[0minteractive\u001b[0m \u001b[0;34m=\u001b[0m \u001b[0;32mFalse\u001b[0m\u001b[0;34m\u001b[0m\u001b[0;34m\u001b[0m\u001b[0m\n\u001b[0;32m-> 2299\u001b[0;31m         \u001b[0mself\u001b[0m\u001b[0;34m.\u001b[0m\u001b[0mtk\u001b[0m \u001b[0;34m=\u001b[0m \u001b[0m_tkinter\u001b[0m\u001b[0;34m.\u001b[0m\u001b[0mcreate\u001b[0m\u001b[0;34m(\u001b[0m\u001b[0mscreenName\u001b[0m\u001b[0;34m,\u001b[0m \u001b[0mbaseName\u001b[0m\u001b[0;34m,\u001b[0m \u001b[0mclassName\u001b[0m\u001b[0;34m,\u001b[0m \u001b[0minteractive\u001b[0m\u001b[0;34m,\u001b[0m \u001b[0mwantobjects\u001b[0m\u001b[0;34m,\u001b[0m \u001b[0museTk\u001b[0m\u001b[0;34m,\u001b[0m \u001b[0msync\u001b[0m\u001b[0;34m,\u001b[0m \u001b[0muse\u001b[0m\u001b[0;34m)\u001b[0m\u001b[0;34m\u001b[0m\u001b[0;34m\u001b[0m\u001b[0m\n\u001b[0m\u001b[1;32m   2300\u001b[0m         \u001b[0;32mif\u001b[0m \u001b[0museTk\u001b[0m\u001b[0;34m:\u001b[0m\u001b[0;34m\u001b[0m\u001b[0;34m\u001b[0m\u001b[0m\n\u001b[1;32m   2301\u001b[0m             \u001b[0mself\u001b[0m\u001b[0;34m.\u001b[0m\u001b[0m_loadtk\u001b[0m\u001b[0;34m(\u001b[0m\u001b[0;34m)\u001b[0m\u001b[0;34m\u001b[0m\u001b[0;34m\u001b[0m\u001b[0m\n",
            "\u001b[0;31mTclError\u001b[0m: no display name and no $DISPLAY environment variable"
          ]
        }
      ]
    }
  ]
}