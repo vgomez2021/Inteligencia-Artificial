{
  "nbformat": 4,
  "nbformat_minor": 0,
  "metadata": {
    "colab": {
      "provenance": [],
      "authorship_tag": "ABX9TyPb9pysWC8ZI+tybzsXSz+S",
      "include_colab_link": true
    },
    "kernelspec": {
      "name": "python3",
      "display_name": "Python 3"
    },
    "language_info": {
      "name": "python"
    }
  },
  "cells": [
    {
      "cell_type": "markdown",
      "metadata": {
        "id": "view-in-github",
        "colab_type": "text"
      },
      "source": [
        "<a href=\"https://colab.research.google.com/github/vgomez2021/Inteligencia-Artificial/blob/main/Ejercicio%205.ipynb\" target=\"_parent\"><img src=\"https://colab.research.google.com/assets/colab-badge.svg\" alt=\"Open In Colab\"/></a>"
      ]
    },
    {
      "cell_type": "code",
      "source": [
        "from PIL import Image\n",
        "import random\n",
        "import time\n",
        "\n",
        "# Lista de rutas a las imágenes (ajusta estas rutas a tu estructura de archivos)\n",
        "imagenes = ['1.png', '2.png', '3.png']\n",
        "\n",
        "# Bucle infinito\n",
        "while True:\n",
        "    # Seleccionar una imagen aleatoria\n",
        "    imagen_aleatoria = random.choice(imagenes)\n",
        "\n",
        "    # Abrir la imagen\n",
        "    img = Image.open(imagen_aleatoria)\n",
        "\n",
        "    # Mostrar la imagen (aquí dependerá de cómo quieras mostrar la imagen,\n",
        "    # puedes usar una librería gráfica como Tkinter, Pygame, etc.)\n",
        "    # Por ahora, simplemente mostraremos la ruta de la imagen en la consola\n",
        "    print(f\"Imagen actual: {imagen_aleatoria}\")\n",
        "\n",
        "    # Reconocer el estado del semáforo y mostrar el mensaje correspondiente\n",
        "    if imagen_aleatoria == '1.png':\n",
        "        print(\"Semáforo en rojo! - Detenerse!\")\n",
        "    elif imagen_aleatoria == '2.png':\n",
        "        print(\"Semáforo en amarillo - Atención!\")\n",
        "    else:\n",
        "        print(\"Semáforo en verde - Avanzar!\")\n",
        "\n",
        "    # Esperar 2 segundos\n",
        "    time.sleep(2)"
      ],
      "metadata": {
        "colab": {
          "base_uri": "https://localhost:8080/",
          "height": 384
        },
        "id": "-0V1aW2uzkvo",
        "outputId": "f4a24a3a-b5c7-4a46-d48b-c8b31ab4aa59"
      },
      "execution_count": 2,
      "outputs": [
        {
          "output_type": "stream",
          "name": "stdout",
          "text": [
            "Imagen actual: 2.png\n",
            "Semáforo en amarillo - Atención!\n",
            "Imagen actual: 1.png\n",
            "Semáforo en rojo! - Detenerse!\n",
            "Imagen actual: 1.png\n",
            "Semáforo en rojo! - Detenerse!\n",
            "Imagen actual: 3.png\n",
            "Semáforo en verde - Avanzar!\n",
            "Imagen actual: 1.png\n",
            "Semáforo en rojo! - Detenerse!\n",
            "Imagen actual: 1.png\n",
            "Semáforo en rojo! - Detenerse!\n"
          ]
        },
        {
          "output_type": "error",
          "ename": "KeyboardInterrupt",
          "evalue": "",
          "traceback": [
            "\u001b[0;31m---------------------------------------------------------------------------\u001b[0m",
            "\u001b[0;31mKeyboardInterrupt\u001b[0m                         Traceback (most recent call last)",
            "\u001b[0;32m<ipython-input-2-55088f89323f>\u001b[0m in \u001b[0;36m<cell line: 9>\u001b[0;34m()\u001b[0m\n\u001b[1;32m     28\u001b[0m \u001b[0;34m\u001b[0m\u001b[0m\n\u001b[1;32m     29\u001b[0m     \u001b[0;31m# Esperar 2 segundos\u001b[0m\u001b[0;34m\u001b[0m\u001b[0;34m\u001b[0m\u001b[0m\n\u001b[0;32m---> 30\u001b[0;31m     \u001b[0mtime\u001b[0m\u001b[0;34m.\u001b[0m\u001b[0msleep\u001b[0m\u001b[0;34m(\u001b[0m\u001b[0;36m2\u001b[0m\u001b[0;34m)\u001b[0m\u001b[0;34m\u001b[0m\u001b[0;34m\u001b[0m\u001b[0m\n\u001b[0m",
            "\u001b[0;31mKeyboardInterrupt\u001b[0m: "
          ]
        }
      ]
    }
  ]
}